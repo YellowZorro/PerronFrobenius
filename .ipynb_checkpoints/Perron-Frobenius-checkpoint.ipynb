{
 "cells": [
  {
   "cell_type": "code",
   "execution_count": 22,
   "metadata": {},
   "outputs": [],
   "source": [
    "import numpy as np\n",
    "from sympy import *\n",
    "    \n",
    "# Tropical addition\n",
    "# num - num\n",
    "# n-vector - n-vector\n",
    "# nm-matrix - nm-matrix\n",
    "def tplus(a, b):\n",
    "    if (mode == 0):\n",
    "        if (len(np.shape(a)) == 2 and np.shape(a) == np.shape(b)):\n",
    "            n, m = np.shape(a)\n",
    "            out = np.zeros(shape=(n,m))\n",
    "            for i in range(n):\n",
    "                for j in range(m):\n",
    "                    out[i][j] = min(a[i][j], b[i][j])\n",
    "            return out\n",
    "        elif (len(np.shape(a)) == len(np.shape(b)) == 1):\n",
    "            n = np.shape(a)[0]\n",
    "            out = np.zeros(n)\n",
    "            for i in range(n):\n",
    "                out[i] = min(a[i], b[i])\n",
    "            return out\n",
    "        return min(a, b)\n",
    "    else:\n",
    "        if (len(np.shape(a)) == 2 and np.shape(a) == np.shape(b)):\n",
    "            n, m = np.shape(a)\n",
    "            out = np.zeros(shape=(n,m))\n",
    "            for i in range(n):\n",
    "                for j in range(m):\n",
    "                    out[i][j] = max(a[i][j], b[i][j])\n",
    "            return out\n",
    "        elif (len(np.shape(a)) == len(np.shape(b)) == 1):\n",
    "            n = np.shape(a)[0]\n",
    "            out = np.zeros(n)\n",
    "            for i in range(n):\n",
    "                out[i] = max(a[i], b[i])\n",
    "            return out\n",
    "        return max(a, b)\n",
    "\n",
    "# Tropical multiplication\n",
    "# num - num\n",
    "# scalar - vector\n",
    "# scalar - matrix\n",
    "# nm-matrix - mx-matrix\n",
    "def ttimes(a, b):\n",
    "    if (len(np.shape(a)) == 2 and np.shape(a)[1] == np.shape(b)[0]):\n",
    "        n, m = np.shape(a)\n",
    "        m, x = np.shape(b)\n",
    "        out = np.zeros(shape=(n,x))\n",
    "        for i in range(n):\n",
    "            for j in range(x):\n",
    "                val = ttimes(a[i][0],b[0][j])\n",
    "                for k in range(m):\n",
    "                    val = tplus(val, ttimes(a[i][k],b[k][j]))\n",
    "                out[i][j] = val\n",
    "        return out\n",
    "    elif (len(np.shape(b)) == 1):\n",
    "        m = np.shape(b)[0]\n",
    "        out = np.zeros(m)\n",
    "        for i in range(m):\n",
    "            out[i] = ttimes(b[i],a)\n",
    "        return out\n",
    "    elif (len(np.shape(b)) == 2):\n",
    "        n, m = np.shape(b)\n",
    "        out = np.zeros(shape=(n, m))\n",
    "        for i in range(n):\n",
    "            for j in range(m):\n",
    "                out[i][j] = ttimes(b[i][j], a)\n",
    "        return out\n",
    "    return (a + b) if (mode2==0) else (a * b)\n",
    "\n",
    "# Tropical dot product\n",
    "# n-vector - n-vector\n",
    "def tdot(a, b):\n",
    "    val = ttimes(a[0], b[0])\n",
    "    for i in range(len(a)):\n",
    "        if mode == 0:\n",
    "            val = min(val, ttimes(a[i],b[i]))\n",
    "        else:\n",
    "            val = max(val, ttimes(a[i],b[i]))\n",
    "    return val\n",
    "\n",
    "# Tropical exponentiation\n",
    "def texp(a, b):\n",
    "    return (a * b) if (mode2==0) else (a**b)\n",
    "\n",
    "# Calculate tropical eigenvalue of a square matrix\n",
    "def teigval(matrix):\n",
    "    n, m = np.shape(matrix)\n",
    "    assert n == m\n",
    "    ma = matrix\n",
    "    cur = matrix\n",
    "    for i in range(1,n):\n",
    "        ma = ttimes(ma, matrix)\n",
    "        cur = tplus(cur, (1/(i+1))*ma)\n",
    "    val = cur[0][0]\n",
    "    for i in range(n):\n",
    "        val = tplus(val, cur[i][i])\n",
    "    return val\n",
    "\n",
    "# Calculate tropical eigenvectors of a square matrix\n",
    "def teigvec(matrix):\n",
    "    n, m = np.shape(matrix)\n",
    "    assert n == m\n",
    "    \n",
    "    eigval = teigval(matrix)\n",
    "    matrix = ttimes(texp(eigval,-1), matrix)\n",
    "    ma = matrix\n",
    "    cur = matrix\n",
    "    for i in range(1,n):\n",
    "        ma = ttimes(ma, matrix)\n",
    "        cur = tplus(cur, ma)\n",
    "    out = []\n",
    "    cur = cur.transpose()\n",
    "    for i in range(n):\n",
    "        if (cur[i][i] == 0):\n",
    "            out.append(cur[i])\n",
    "    return basis(out)\n",
    "\n",
    "# Calculate basis of given list of vectors\n",
    "def basis(vectors):\n",
    "    count = 1\n",
    "    n = len(vectors)\n",
    "    out = []\n",
    "    out.append(ttimes((texp(vectors[0][0],-1)),vectors[0]))\n",
    "    for i in range(1,n):\n",
    "        vectors[i] = ttimes(texp(vectors[i][0],-1),vectors[i])\n",
    "        matches = 0\n",
    "        for j in range(0,len(out)):\n",
    "            if ((out[j] == vectors[i]).all()):\n",
    "                matches = 1\n",
    "        if (matches == 0):\n",
    "            out.append(vectors[i])\n",
    "    return out\n",
    "\n",
    "# Compute transfer matrix\n",
    "def transfer_matrix(A, h):\n",
    "    n, m = np.shape(matrix)\n",
    "    assert n == m\n",
    "    \n",
    "    return numpy.exp(A*(1/h))\n",
    "\n",
    "# Compute transfer asymptote\n",
    "def matrix_asymptote(A):\n",
    "    h = Symbol('h')\n",
    "    \n",
    "    n, m = np.shape(A)\n",
    "    assert n == m\n",
    "    out = np.zeros(shape=(n, m))\n",
    "    \n",
    "    for i in range(n):\n",
    "        for j in range(m):\n",
    "            out[i][j] = limit(exp((1/h)*A[i][j]),h,0)\n",
    "    \n",
    "    return out\n",
    "            "
   ]
  },
  {
   "cell_type": "code",
   "execution_count": 10,
   "metadata": {},
   "outputs": [],
   "source": [
    "# 0 : min\n",
    "# 1 : max\n",
    "mode = 0\n",
    "\n",
    "# 0 : plus\n",
    "# 1 : times\n",
    "mode2 = 0"
   ]
  },
  {
   "cell_type": "code",
   "execution_count": 28,
   "metadata": {},
   "outputs": [],
   "source": [
    "a = np.zeros(3)\n",
    "b = np.zeros(3)\n",
    "c = np.zeros(3)\n",
    "a[0], a[1], a[2] = 1, 2, 5\n",
    "b[0], b[1], b[2] = 5, 2, 3\n",
    "c[0], c[1], c[2] = 4, 1, 1"
   ]
  },
  {
   "cell_type": "code",
   "execution_count": 29,
   "metadata": {},
   "outputs": [
    {
     "name": "stdout",
     "output_type": "stream",
     "text": [
      "[[1. 2. 5.]\n",
      " [5. 2. 3.]\n",
      " [4. 1. 1.]]\n",
      "\n",
      "[[1. 5. 4.]\n",
      " [2. 2. 1.]\n",
      " [5. 3. 1.]]\n",
      "\n",
      "[[2. 4. 3.]\n",
      " [4. 4. 3.]\n",
      " [3. 3. 2.]]\n",
      "[[4. 6. 5.]\n",
      " [6. 6. 5.]\n",
      " [5. 5. 4.]]\n"
     ]
    }
   ],
   "source": [
    "m1 = np.zeros(shape=(3,3))\n",
    "m2 = np.zeros(shape=(3,3))\n",
    "m1[0], m1[1], m1[2] = a, b, c\n",
    "m2[0], m2[1], m2[2] = a, b, c\n",
    "m2 = m2.transpose()\n",
    "print(m1)\n",
    "print()\n",
    "print(m2)\n",
    "print()\n",
    "print(ttimes(m1,m2))\n",
    "print(ttimes(2, ttimes(m1,m2)))"
   ]
  },
  {
   "cell_type": "code",
   "execution_count": 30,
   "metadata": {},
   "outputs": [
    {
     "name": "stdout",
     "output_type": "stream",
     "text": [
      "1.0\n"
     ]
    }
   ],
   "source": [
    "print(teigval(m1))"
   ]
  },
  {
   "cell_type": "code",
   "execution_count": 31,
   "metadata": {},
   "outputs": [
    {
     "name": "stdout",
     "output_type": "stream",
     "text": [
      "[array([0., 4., 3.]), array([ 0., -1., -3.])]\n"
     ]
    }
   ],
   "source": [
    "print(teigvec(m1))"
   ]
  },
  {
   "cell_type": "code",
   "execution_count": 34,
   "metadata": {},
   "outputs": [
    {
     "name": "stdout",
     "output_type": "stream",
     "text": [
      "[[inf inf inf]\n",
      " [inf inf inf]\n",
      " [inf inf inf]]\n"
     ]
    }
   ],
   "source": [
    "asym = matrix_asymptote(m1)\n",
    "print(asym)"
   ]
  },
  {
   "cell_type": "code",
   "execution_count": 33,
   "metadata": {},
   "outputs": [
    {
     "ename": "LinAlgError",
     "evalue": "Array must not contain infs or NaNs",
     "output_type": "error",
     "traceback": [
      "\u001b[0;31m---------------------------------------------------------------------------\u001b[0m",
      "\u001b[0;31mLinAlgError\u001b[0m                               Traceback (most recent call last)",
      "\u001b[0;32m<ipython-input-33-a5b12b52844b>\u001b[0m in \u001b[0;36m<module>\u001b[0;34m()\u001b[0m\n\u001b[0;32m----> 1\u001b[0;31m \u001b[0mprint\u001b[0m\u001b[0;34m(\u001b[0m\u001b[0mnp\u001b[0m\u001b[0;34m.\u001b[0m\u001b[0mlinalg\u001b[0m\u001b[0;34m.\u001b[0m\u001b[0meig\u001b[0m\u001b[0;34m(\u001b[0m\u001b[0masym\u001b[0m\u001b[0;34m)\u001b[0m\u001b[0;34m)\u001b[0m\u001b[0;34m\u001b[0m\u001b[0m\n\u001b[0m",
      "\u001b[0;32m~/anaconda3/lib/python3.6/site-packages/numpy/linalg/linalg.py\u001b[0m in \u001b[0;36meig\u001b[0;34m(a)\u001b[0m\n\u001b[1;32m   1141\u001b[0m     \u001b[0m_assertRankAtLeast2\u001b[0m\u001b[0;34m(\u001b[0m\u001b[0ma\u001b[0m\u001b[0;34m)\u001b[0m\u001b[0;34m\u001b[0m\u001b[0m\n\u001b[1;32m   1142\u001b[0m     \u001b[0m_assertNdSquareness\u001b[0m\u001b[0;34m(\u001b[0m\u001b[0ma\u001b[0m\u001b[0;34m)\u001b[0m\u001b[0;34m\u001b[0m\u001b[0m\n\u001b[0;32m-> 1143\u001b[0;31m     \u001b[0m_assertFinite\u001b[0m\u001b[0;34m(\u001b[0m\u001b[0ma\u001b[0m\u001b[0;34m)\u001b[0m\u001b[0;34m\u001b[0m\u001b[0m\n\u001b[0m\u001b[1;32m   1144\u001b[0m     \u001b[0mt\u001b[0m\u001b[0;34m,\u001b[0m \u001b[0mresult_t\u001b[0m \u001b[0;34m=\u001b[0m \u001b[0m_commonType\u001b[0m\u001b[0;34m(\u001b[0m\u001b[0ma\u001b[0m\u001b[0;34m)\u001b[0m\u001b[0;34m\u001b[0m\u001b[0m\n\u001b[1;32m   1145\u001b[0m \u001b[0;34m\u001b[0m\u001b[0m\n",
      "\u001b[0;32m~/anaconda3/lib/python3.6/site-packages/numpy/linalg/linalg.py\u001b[0m in \u001b[0;36m_assertFinite\u001b[0;34m(*arrays)\u001b[0m\n\u001b[1;32m    214\u001b[0m     \u001b[0;32mfor\u001b[0m \u001b[0ma\u001b[0m \u001b[0;32min\u001b[0m \u001b[0marrays\u001b[0m\u001b[0;34m:\u001b[0m\u001b[0;34m\u001b[0m\u001b[0m\n\u001b[1;32m    215\u001b[0m         \u001b[0;32mif\u001b[0m \u001b[0;32mnot\u001b[0m \u001b[0;34m(\u001b[0m\u001b[0misfinite\u001b[0m\u001b[0;34m(\u001b[0m\u001b[0ma\u001b[0m\u001b[0;34m)\u001b[0m\u001b[0;34m.\u001b[0m\u001b[0mall\u001b[0m\u001b[0;34m(\u001b[0m\u001b[0;34m)\u001b[0m\u001b[0;34m)\u001b[0m\u001b[0;34m:\u001b[0m\u001b[0;34m\u001b[0m\u001b[0m\n\u001b[0;32m--> 216\u001b[0;31m             \u001b[0;32mraise\u001b[0m \u001b[0mLinAlgError\u001b[0m\u001b[0;34m(\u001b[0m\u001b[0;34m\"Array must not contain infs or NaNs\"\u001b[0m\u001b[0;34m)\u001b[0m\u001b[0;34m\u001b[0m\u001b[0m\n\u001b[0m\u001b[1;32m    217\u001b[0m \u001b[0;34m\u001b[0m\u001b[0m\n\u001b[1;32m    218\u001b[0m \u001b[0;32mdef\u001b[0m \u001b[0m_isEmpty2d\u001b[0m\u001b[0;34m(\u001b[0m\u001b[0marr\u001b[0m\u001b[0;34m)\u001b[0m\u001b[0;34m:\u001b[0m\u001b[0;34m\u001b[0m\u001b[0m\n",
      "\u001b[0;31mLinAlgError\u001b[0m: Array must not contain infs or NaNs"
     ]
    }
   ],
   "source": [
    "print(np.linalg.eig(asym))"
   ]
  },
  {
   "cell_type": "code",
   "execution_count": null,
   "metadata": {},
   "outputs": [],
   "source": []
  }
 ],
 "metadata": {
  "kernelspec": {
   "display_name": "Python 3",
   "language": "python",
   "name": "python3"
  },
  "language_info": {
   "codemirror_mode": {
    "name": "ipython",
    "version": 3
   },
   "file_extension": ".py",
   "mimetype": "text/x-python",
   "name": "python",
   "nbconvert_exporter": "python",
   "pygments_lexer": "ipython3",
   "version": "3.6.5"
  }
 },
 "nbformat": 4,
 "nbformat_minor": 2
}
