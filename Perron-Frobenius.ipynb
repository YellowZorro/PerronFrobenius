{
 "cells": [
  {
   "cell_type": "code",
   "execution_count": 82,
   "metadata": {},
   "outputs": [],
   "source": [
    "import numpy as np\n",
    "from sympy import *\n",
    "    \n",
    "# Tropical addition\n",
    "# num - num\n",
    "# n-vector - n-vector\n",
    "# nm-matrix - nm-matrix\n",
    "def tplus(a, b):\n",
    "    if (mode == 0):\n",
    "        if (len(np.shape(a)) == 2 and np.shape(a) == np.shape(b)):\n",
    "            n, m = np.shape(a)\n",
    "            out = np.zeros(shape=(n,m))\n",
    "            \n",
    "            for i in range(n):\n",
    "                for j in range(m):\n",
    "                    out[i][j] = min(a[i][j], b[i][j])\n",
    "            return out\n",
    "        \n",
    "        elif (len(np.shape(a)) == len(np.shape(b)) == 1):\n",
    "            n = np.shape(a)[0]\n",
    "            out = np.zeros(n)\n",
    "            \n",
    "            for i in range(n):\n",
    "                out[i] = min(a[i], b[i])\n",
    "            return out\n",
    "        return min(a, b)\n",
    "    else:\n",
    "        if (len(np.shape(a)) == 2 and np.shape(a) == np.shape(b)):\n",
    "            n, m = np.shape(a)\n",
    "            out = np.zeros(shape=(n,m))\n",
    "            \n",
    "            for i in range(n):\n",
    "                for j in range(m):\n",
    "                    out[i][j] = max(a[i][j], b[i][j])\n",
    "            return out\n",
    "        \n",
    "        elif (len(np.shape(a)) == len(np.shape(b)) == 1):\n",
    "            n = np.shape(a)[0]\n",
    "            out = np.zeros(n)\n",
    "            for i in range(n):\n",
    "                out[i] = max(a[i], b[i])\n",
    "            return out\n",
    "        return max(a, b)\n",
    "\n",
    "# Tropical multiplication\n",
    "# num - num\n",
    "# scalar - vector\n",
    "# scalar - matrix\n",
    "# nm-matrix - mx-matrix\n",
    "# nm-matrix - m-vector\n",
    "def ttimes(a, b):\n",
    "    if (len(np.shape(a)) == 2 and np.shape(a)[1] == np.shape(b)[0]):\n",
    "        n, m = np.shape(a)\n",
    "        if(len(np.shape(b))==1):\n",
    "            b = b.reshape(len(b),1)\n",
    "        m, x = np.shape(b)\n",
    "        out = np.zeros(shape=(n,x))\n",
    "        \n",
    "        for i in range(n):\n",
    "            for j in range(x):\n",
    "                val = ttimes(a[i][0],b[0][j])\n",
    "                \n",
    "                for k in range(m):\n",
    "                    val = tplus(val, ttimes(a[i][k],b[k][j]))\n",
    "                out[i][j] = val\n",
    "        return out\n",
    "    \n",
    "    elif (len(np.shape(b)) == 1):\n",
    "        m = np.shape(b)[0]\n",
    "        out = np.zeros(m)\n",
    "        \n",
    "        for i in range(m):\n",
    "            out[i] = ttimes(b[i],a)\n",
    "        return out\n",
    "    \n",
    "    elif (len(np.shape(b)) == 2):\n",
    "        n, m = np.shape(b)\n",
    "        out = np.zeros(shape=(n, m))\n",
    "        \n",
    "        for i in range(n):\n",
    "            for j in range(m):\n",
    "                out[i][j] = ttimes(b[i][j], a)\n",
    "        return out\n",
    "    \n",
    "    return (a + b) if (mode2==0) else (a * b)\n",
    "\n",
    "# Tropical dot product\n",
    "# n-vector - n-vector\n",
    "def tdot(a, b):\n",
    "    val = ttimes(a[0], b[0])\n",
    "    for i in range(len(a)):\n",
    "        if mode == 0:\n",
    "            val = min(val, ttimes(a[i],b[i]))\n",
    "        else:\n",
    "            val = max(val, ttimes(a[i],b[i]))\n",
    "    return val\n",
    "\n",
    "# Tropical exponentiation\n",
    "def texp(a, b):\n",
    "    return (a * b) if (mode2==0) else (a**b)\n",
    "\n",
    "# Calculate tropical eigenvalue of a square matrix\n",
    "def teigval(matrix):\n",
    "    n, m = np.shape(matrix)\n",
    "    assert n == m\n",
    "    ma = matrix\n",
    "    cur = matrix\n",
    "    for i in range(1,n):\n",
    "        ma = ttimes(ma, matrix)\n",
    "        cur = tplus(cur, (1/(i+1))*ma)\n",
    "    val = cur[0][0]\n",
    "    for i in range(n):\n",
    "        val = tplus(val, cur[i][i])\n",
    "    return val\n",
    "\n",
    "# Calculate tropical eigenvectors of a square matrix\n",
    "def teigvec(matrix):\n",
    "    n, m = np.shape(matrix)\n",
    "    assert n == m\n",
    "    \n",
    "    eigval = teigval(matrix)\n",
    "    matrix = ttimes(texp(eigval,-1), matrix)\n",
    "    \n",
    "    ma = matrix\n",
    "    cur = matrix\n",
    "    \n",
    "    for i in range(1,n):\n",
    "        ma = ttimes(ma, matrix)\n",
    "        cur = tplus(cur, ma)\n",
    "    out = []\n",
    "    cur = cur.transpose()\n",
    "    \n",
    "    for i in range(n):\n",
    "        if (cur[i][i] == 0):\n",
    "            out.append(cur[i])\n",
    "    return basis(out)\n",
    "\n",
    "# Calculate basis of given list of vectors\n",
    "def basis(vectors):\n",
    "    count = 1\n",
    "    n = len(vectors)\n",
    "    out = []\n",
    "    if (n==0):\n",
    "        return out\n",
    "    \n",
    "    out.append(ttimes((texp(vectors[0][0],-1)),vectors[0]))\n",
    "    \n",
    "    for i in range(1,n):\n",
    "        vectors[i] = ttimes(texp(vectors[i][0],-1),vectors[i])\n",
    "        matches = 0\n",
    "        \n",
    "        for j in range(0,len(out)):\n",
    "            if ((out[j] == vectors[i]).all()):\n",
    "                matches = 1\n",
    "        if (matches == 0):\n",
    "            out.append(vectors[i])\n",
    "    return out\n",
    "\n",
    "# Compute transfer matrix\n",
    "def transfer_matrix(A, h):\n",
    "    n, m = np.shape(matrix)\n",
    "    assert n == m\n",
    "    \n",
    "    return numpy.exp(A*(1/h))\n",
    "\n",
    "# Compute transfer asymptote\n",
    "def matrix_asymptote(A):\n",
    "    h = Symbol('h')\n",
    "    \n",
    "    n, m = np.shape(A)\n",
    "    assert n == m\n",
    "    out = np.zeros(shape=(n, m))\n",
    "    \n",
    "    for i in range(n):\n",
    "        for j in range(m):\n",
    "            out[i][j] = limit(exp((1/h)*A[i][j]),h,0)\n",
    "    \n",
    "    return out\n",
    "            "
   ]
  },
  {
   "cell_type": "code",
   "execution_count": 72,
   "metadata": {},
   "outputs": [],
   "source": [
    "# 0 : min\n",
    "# 1 : max\n",
    "mode = 1\n",
    "\n",
    "# 0 : plus\n",
    "# 1 : times\n",
    "mode2 = 0"
   ]
  },
  {
   "cell_type": "code",
   "execution_count": 73,
   "metadata": {},
   "outputs": [],
   "source": [
    "a = np.zeros(3)\n",
    "b = np.zeros(3)\n",
    "c = np.zeros(3)\n",
    "a[0], a[1], a[2] = 0, -5, -1\n",
    "b[0], b[1], b[2] = -1, 0, -1\n",
    "c[0], c[1], c[2] = -1, -1, 0"
   ]
  },
  {
   "cell_type": "code",
   "execution_count": 74,
   "metadata": {},
   "outputs": [
    {
     "name": "stdout",
     "output_type": "stream",
     "text": [
      "[[ 0. -5. -1.]\n",
      " [-1.  0. -1.]\n",
      " [-1. -1.  0.]]\n"
     ]
    }
   ],
   "source": [
    "m1 = np.zeros(shape=(3,3))\n",
    "m2 = np.zeros(shape=(3,3))\n",
    "m1[0], m1[1], m1[2] = a, b, c\n",
    "m2[0], m2[1], m2[2] = a, b, c\n",
    "m2 = m2.transpose()\n",
    "print(m1)\n",
    "\n",
    "v1 = np.zeros(shape=(3,1))\n",
    "v2 = np.zeros(shape=(3,1))\n",
    "v3 = np.zeros(shape=(3,1))\n",
    "v1[0], v1[1], v1[2] = 0, -1, -1\n",
    "v2[0], v2[1], v2[2] = 0, 2, 1\n",
    "v3[0], v3[1], v3[2] = 0, 0, 1"
   ]
  },
  {
   "cell_type": "code",
   "execution_count": 75,
   "metadata": {},
   "outputs": [
    {
     "name": "stdout",
     "output_type": "stream",
     "text": [
      "0.0\n"
     ]
    }
   ],
   "source": [
    "print(teigval(m1))"
   ]
  },
  {
   "cell_type": "code",
   "execution_count": 76,
   "metadata": {},
   "outputs": [
    {
     "name": "stdout",
     "output_type": "stream",
     "text": [
      "[array([ 0., -1., -1.]), array([0., 2., 1.]), array([0., 0., 1.])]\n"
     ]
    }
   ],
   "source": [
    "print(teigvec(m1))"
   ]
  },
  {
   "cell_type": "code",
   "execution_count": 77,
   "metadata": {},
   "outputs": [
    {
     "name": "stdout",
     "output_type": "stream",
     "text": [
      "[[ 0.]\n",
      " [-1.]\n",
      " [-1.]]\n"
     ]
    }
   ],
   "source": [
    "print(ttimes(m1, v1))"
   ]
  },
  {
   "cell_type": "code",
   "execution_count": 85,
   "metadata": {},
   "outputs": [
    {
     "name": "stdout",
     "output_type": "stream",
     "text": [
      "[ 0.   0.5 -0.5]\n",
      "[[ 0. ]\n",
      " [ 0.5]\n",
      " [-0.5]]\n"
     ]
    }
   ],
   "source": [
    "comb = tplus(ttimes(-1.5,teigvec(m1)[1]), teigvec(m1)[0])\n",
    "print(comb)\n",
    "print(ttimes(m1, comb))"
   ]
  },
  {
   "cell_type": "code",
   "execution_count": 79,
   "metadata": {},
   "outputs": [
    {
     "name": "stdout",
     "output_type": "stream",
     "text": [
      "[[1. 0. 0.]\n",
      " [0. 1. 0.]\n",
      " [0. 0. 1.]]\n"
     ]
    }
   ],
   "source": [
    "asym = matrix_asymptote(m1)\n",
    "print(asym)"
   ]
  },
  {
   "cell_type": "code",
   "execution_count": null,
   "metadata": {},
   "outputs": [],
   "source": []
  }
 ],
 "metadata": {
  "kernelspec": {
   "display_name": "Python 3",
   "language": "python",
   "name": "python3"
  },
  "language_info": {
   "codemirror_mode": {
    "name": "ipython",
    "version": 3
   },
   "file_extension": ".py",
   "mimetype": "text/x-python",
   "name": "python",
   "nbconvert_exporter": "python",
   "pygments_lexer": "ipython3",
   "version": "3.6.5"
  }
 },
 "nbformat": 4,
 "nbformat_minor": 2
}
